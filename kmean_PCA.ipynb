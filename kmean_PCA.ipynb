{
 "cells": [
  {
   "cell_type": "code",
   "execution_count": 2,
   "metadata": {},
   "outputs": [],
   "source": [
    "import numpy as np\n",
    "import matplotlib.pyplot as plt\n",
    "import pandas as pd"
   ]
  },
  {
   "cell_type": "code",
   "execution_count": 3,
   "metadata": {},
   "outputs": [
    {
     "data": {
      "text/html": [
       "<div>\n",
       "<style scoped>\n",
       "    .dataframe tbody tr th:only-of-type {\n",
       "        vertical-align: middle;\n",
       "    }\n",
       "\n",
       "    .dataframe tbody tr th {\n",
       "        vertical-align: top;\n",
       "    }\n",
       "\n",
       "    .dataframe thead th {\n",
       "        text-align: right;\n",
       "    }\n",
       "</style>\n",
       "<table border=\"1\" class=\"dataframe\">\n",
       "  <thead>\n",
       "    <tr style=\"text-align: right;\">\n",
       "      <th></th>\n",
       "      <th>Id</th>\n",
       "      <th>SepalLengthCm</th>\n",
       "      <th>SepalWidthCm</th>\n",
       "      <th>PetalLengthCm</th>\n",
       "      <th>PetalWidthCm</th>\n",
       "      <th>Species</th>\n",
       "    </tr>\n",
       "  </thead>\n",
       "  <tbody>\n",
       "    <tr>\n",
       "      <th>0</th>\n",
       "      <td>1</td>\n",
       "      <td>5.1</td>\n",
       "      <td>3.5</td>\n",
       "      <td>1.4</td>\n",
       "      <td>0.2</td>\n",
       "      <td>Iris-setosa</td>\n",
       "    </tr>\n",
       "    <tr>\n",
       "      <th>1</th>\n",
       "      <td>2</td>\n",
       "      <td>4.9</td>\n",
       "      <td>3.0</td>\n",
       "      <td>1.4</td>\n",
       "      <td>0.2</td>\n",
       "      <td>Iris-setosa</td>\n",
       "    </tr>\n",
       "    <tr>\n",
       "      <th>2</th>\n",
       "      <td>3</td>\n",
       "      <td>4.7</td>\n",
       "      <td>3.2</td>\n",
       "      <td>1.3</td>\n",
       "      <td>0.2</td>\n",
       "      <td>Iris-setosa</td>\n",
       "    </tr>\n",
       "    <tr>\n",
       "      <th>3</th>\n",
       "      <td>4</td>\n",
       "      <td>4.6</td>\n",
       "      <td>3.1</td>\n",
       "      <td>1.5</td>\n",
       "      <td>0.2</td>\n",
       "      <td>Iris-setosa</td>\n",
       "    </tr>\n",
       "    <tr>\n",
       "      <th>4</th>\n",
       "      <td>5</td>\n",
       "      <td>5.0</td>\n",
       "      <td>3.6</td>\n",
       "      <td>1.4</td>\n",
       "      <td>0.2</td>\n",
       "      <td>Iris-setosa</td>\n",
       "    </tr>\n",
       "  </tbody>\n",
       "</table>\n",
       "</div>"
      ],
      "text/plain": [
       "   Id  SepalLengthCm  SepalWidthCm  PetalLengthCm  PetalWidthCm      Species\n",
       "0   1            5.1           3.5            1.4           0.2  Iris-setosa\n",
       "1   2            4.9           3.0            1.4           0.2  Iris-setosa\n",
       "2   3            4.7           3.2            1.3           0.2  Iris-setosa\n",
       "3   4            4.6           3.1            1.5           0.2  Iris-setosa\n",
       "4   5            5.0           3.6            1.4           0.2  Iris-setosa"
      ]
     },
     "execution_count": 3,
     "metadata": {},
     "output_type": "execute_result"
    }
   ],
   "source": [
    "df = pd.read_csv('D:/ML/comp/Iris Dataset.csv')\n",
    "df.head()"
   ]
  },
  {
   "cell_type": "code",
   "execution_count": 4,
   "metadata": {},
   "outputs": [],
   "source": [
    "class K_Means:\n",
    "    def __init__(self, k=2, tol=0.001, max_iter=300):\n",
    "        self.k = k\n",
    "        self.tol = tol\n",
    "        self.max_iter = max_iter\n",
    "\n",
    "    def fit(self,data):\n",
    "\n",
    "        self.centroids = {}\n",
    "\n",
    "        for i in range(self.k):\n",
    "            self.centroids[i] = data[i]\n",
    "\n",
    "        for i in range(self.max_iter):\n",
    "            self.classifications = {}\n",
    "\n",
    "            for i in range(self.k):\n",
    "                self.classifications[i] = []\n",
    "\n",
    "            for featureset in data:\n",
    "                distances = [np.linalg.norm(featureset-self.centroids[centroid]) for centroid in self.centroids]\n",
    "                classification = distances.index(min(distances))\n",
    "                self.classifications[classification].append(featureset)\n",
    "\n",
    "            prev_centroids = dict(self.centroids)\n",
    "\n",
    "            for classification in self.classifications:\n",
    "                self.centroids[classification] = np.average(self.classifications[classification],axis=0)\n",
    "\n",
    "            optimized = True\n",
    "\n",
    "            for c in self.centroids:\n",
    "                original_centroid = prev_centroids[c]\n",
    "                current_centroid = self.centroids[c]\n",
    "                if np.sum((current_centroid-original_centroid)/original_centroid*100.0) > self.tol:\n",
    "                    #print(np.sum((current_centroid-original_centroid)/original_centroid*100.0))\n",
    "                    optimized = False\n",
    "\n",
    "            if optimized:\n",
    "                break\n",
    "\n",
    "    def predict(self,data):\n",
    "        distances = [np.linalg.norm(data-self.centroids[centroid]) for centroid in self.centroids]\n",
    "        classification = distances.index(min(distances))\n",
    "        return classification"
   ]
  },
  {
   "cell_type": "code",
   "execution_count": 5,
   "metadata": {},
   "outputs": [
    {
     "name": "stdout",
     "output_type": "stream",
     "text": [
      "<class 'pandas.core.frame.DataFrame'>\n",
      "RangeIndex: 150 entries, 0 to 149\n",
      "Data columns (total 6 columns):\n",
      " #   Column         Non-Null Count  Dtype  \n",
      "---  ------         --------------  -----  \n",
      " 0   Id             150 non-null    int64  \n",
      " 1   SepalLengthCm  150 non-null    float64\n",
      " 2   SepalWidthCm   150 non-null    float64\n",
      " 3   PetalLengthCm  150 non-null    float64\n",
      " 4   PetalWidthCm   150 non-null    float64\n",
      " 5   Species        150 non-null    object \n",
      "dtypes: float64(4), int64(1), object(1)\n",
      "memory usage: 7.2+ KB\n"
     ]
    },
    {
     "data": {
      "text/plain": [
       "array(['Iris-setosa', 'Iris-versicolor', 'Iris-virginica'], dtype=object)"
      ]
     },
     "execution_count": 5,
     "metadata": {},
     "output_type": "execute_result"
    }
   ],
   "source": [
    "df.info() # no null data\n",
    "df['Species'].unique()"
   ]
  },
  {
   "cell_type": "code",
   "execution_count": 6,
   "metadata": {},
   "outputs": [
    {
     "name": "stdout",
     "output_type": "stream",
     "text": [
      "Accuracy:  91.11111111111111 %\n"
     ]
    },
    {
     "name": "stderr",
     "output_type": "stream",
     "text": [
      "C:\\Users\\hp\\AppData\\Local\\Temp\\ipykernel_21396\\3823621298.py:7: SettingWithCopyWarning: \n",
      "A value is trying to be set on a copy of a slice from a DataFrame.\n",
      "Try using .loc[row_indexer,col_indexer] = value instead\n",
      "\n",
      "See the caveats in the documentation: https://pandas.pydata.org/pandas-docs/stable/user_guide/indexing.html#returning-a-view-versus-a-copy\n",
      "  dfcpy[column] = (dfcpy[column] - dfcpy[column].min()) / (dfcpy[column].max() - dfcpy[column].min())\n"
     ]
    },
    {
     "data": {
      "text/plain": [
       "<matplotlib.collections.PathCollection at 0x196c82845e0>"
      ]
     },
     "execution_count": 6,
     "metadata": {},
     "output_type": "execute_result"
    },
    {
     "data": {
      "image/png": "[encoded data removed]",
      "text/plain": [
       "<Figure size 432x288 with 1 Axes>"
      ]
     },
     "metadata": {
      "needs_background": "light"
     },
     "output_type": "display_data"
    }
   ],
   "source": [
    "features = ['SepalLengthCm','SepalWidthCm','PetalWidthCm','PetalLengthCm','Species']\n",
    "f = ['SepalLengthCm','SepalWidthCm','PetalWidthCm','PetalLengthCm']\n",
    "df[\"Species\"] = df[\"Species\"].replace({\"Iris-setosa\": 0, \"Iris-versicolor\": 1, \"Iris-virginica\": 2})\n",
    "dfcpy = df[features]\n",
    "\n",
    "for column in f:\n",
    "    dfcpy[column] = (dfcpy[column] - dfcpy[column].min()) / (dfcpy[column].max() - dfcpy[column].min())\n",
    "\n",
    "training_data = dfcpy.sample(frac=0.7, random_state=41)\n",
    "testing_data = dfcpy.drop(training_data.index)\n",
    "\n",
    "X_train = training_data.iloc[:,:-1].values\n",
    "y_train = training_data.iloc[:,-1].values\n",
    "\n",
    "X_test = testing_data.iloc[:,:-1].values\n",
    "Y_test = testing_data.iloc[:,-1].values\n",
    "\n",
    "mdl = K_Means()\n",
    "mdl.__init__(k=3)\n",
    "mdl.fit(X_train)\n",
    "\n",
    "y_pred = np.array([])\n",
    "for i in range(len(Y_test)):\n",
    "    y_pred = np.append(y_pred,mdl.predict(X_test[i]))\n",
    "\n",
    "accuracy = 0\n",
    "for i in range(len(Y_test)):\n",
    "    if Y_test[i]==y_pred[i]:\n",
    "        accuracy+=1\n",
    "accuracy= (accuracy/len(Y_test))*100\n",
    "print('Accuracy: ',accuracy,'%')\n",
    "plt.scatter([i for i in range(len(Y_test))],y_pred)"
   ]
  },
  {
   "cell_type": "code",
   "execution_count": 7,
   "metadata": {},
   "outputs": [
    {
     "data": {
      "text/plain": [
       "<matplotlib.collections.PathCollection at 0x196c83879d0>"
      ]
     },
     "execution_count": 7,
     "metadata": {},
     "output_type": "execute_result"
    },
    {
     "data": {
      "image/png": "[encoded data removed]",
      "text/plain": [
       "<Figure size 432x288 with 1 Axes>"
      ]
     },
     "metadata": {
      "needs_background": "light"
     },
     "output_type": "display_data"
    }
   ],
   "source": [
    "plt.scatter([i for i in range(len(Y_test))],Y_test)"
   ]
  },
  {
   "cell_type": "code",
   "execution_count": 8,
   "metadata": {},
   "outputs": [
    {
     "name": "stdout",
     "output_type": "stream",
     "text": [
      "     SepalLengthCm  SepalWidthCm  PetalWidthCm  PetalLengthCm\n",
      "0        -0.897674      1.028611     -1.308593      -1.336794\n",
      "1        -1.139200     -0.124540     -1.308593      -1.336794\n",
      "2        -1.380727      0.336720     -1.308593      -1.393470\n",
      "3        -1.501490      0.106090     -1.308593      -1.280118\n",
      "4        -1.018437      1.259242     -1.308593      -1.336794\n",
      "..             ...           ...           ...            ...\n",
      "145       1.034539     -0.124540      1.443121       0.816888\n",
      "146       0.551486     -1.277692      0.918985       0.703536\n",
      "147       0.793012     -0.124540      1.050019       0.816888\n",
      "148       0.430722      0.797981      1.443121       0.930239\n",
      "149       0.068433     -0.124540      0.787951       0.760212\n",
      "\n",
      "[150 rows x 4 columns]\n",
      "Eigenvectors:  [[ 0.52237162 -0.37231836 -0.72101681 -0.26199559]\n",
      " [-0.26335492 -0.92555649  0.24203288  0.12413481]\n",
      " [ 0.56561105 -0.06541577  0.6338014  -0.52354627]\n",
      " [ 0.58125401 -0.02109478  0.14089226  0.80115427]]\n",
      "Eigenvalues:  [2.91081808 0.92122093 0.14735328 0.02060771]\n"
     ]
    },
    {
     "name": "stderr",
     "output_type": "stream",
     "text": [
      "C:\\Users\\hp\\AppData\\Local\\Temp\\ipykernel_21396\\942290237.py:3: SettingWithCopyWarning: \n",
      "A value is trying to be set on a copy of a slice from a DataFrame.\n",
      "Try using .loc[row_indexer,col_indexer] = value instead\n",
      "\n",
      "See the caveats in the documentation: https://pandas.pydata.org/pandas-docs/stable/user_guide/indexing.html#returning-a-view-versus-a-copy\n",
      "  scaled_data[col] = (scaled_data[col]-scaled_data[col].mean())/scaled_data[col].std() #data normalisation\n",
      "C:\\Users\\hp\\AppData\\Local\\Temp\\ipykernel_21396\\942290237.py:13: SettingWithCopyWarning: \n",
      "A value is trying to be set on a copy of a slice from a DataFrame.\n",
      "Try using .loc[row_indexer,col_indexer] = value instead\n",
      "\n",
      "See the caveats in the documentation: https://pandas.pydata.org/pandas-docs/stable/user_guide/indexing.html#returning-a-view-versus-a-copy\n",
      "  mean_subtracted[col] = mean_subtracted[col]-mean_subtracted[col].mean()\n"
     ]
    },
    {
     "data": {
      "text/plain": [
       "Text(0.5, 0, 'Magnitude of the eigenvalue')"
      ]
     },
     "execution_count": 8,
     "metadata": {},
     "output_type": "execute_result"
    },
    {
     "data": {
      "image/png": "[encoded data removed]",
      "text/plain": [
       "<Figure size 432x288 with 1 Axes>"
      ]
     },
     "metadata": {
      "needs_background": "light"
     },
     "output_type": "display_data"
    }
   ],
   "source": [
    "def data_normalisation(scaled_data):\n",
    "    for col in scaled_data.columns: #iterate over each column\n",
    "        scaled_data[col] = (scaled_data[col]-scaled_data[col].mean())/scaled_data[col].std() #data normalisation \n",
    "    return scaled_data\n",
    "\n",
    "dfcpy2 = df[f]\n",
    "scaled_data = data_normalisation(dfcpy2)\n",
    "print(scaled_data)\n",
    "\n",
    "def covariance_calculation(mean_subtracted):\n",
    "    #calcualte covariance amongst scaled values\n",
    "    for col in mean_subtracted.columns:\n",
    "        mean_subtracted[col] = mean_subtracted[col]-mean_subtracted[col].mean()\n",
    "        \n",
    "    return np.dot(mean_subtracted.T,mean_subtracted)/(len(mean_subtracted) - 1)\n",
    "cov_calc = covariance_calculation(scaled_data) #calling the above function\n",
    "\n",
    "from numpy.linalg import eig\n",
    "w,v=eig(cov_calc)\n",
    "\n",
    "print('Eigenvectors: ',v)\n",
    "print('Eigenvalues: ',w)\n",
    "plt.bar([\"e\" + str(i+1) for i in range(len(w))], w)\n",
    "plt.title(\"Eigenvalues\")\n",
    "plt.xlabel(\"Magnitude of the eigenvalue\")"
   ]
  },
  {
   "cell_type": "code",
   "execution_count": 9,
   "metadata": {},
   "outputs": [
    {
     "data": {
      "text/html": [
       "<div>\n",
       "<style scoped>\n",
       "    .dataframe tbody tr th:only-of-type {\n",
       "        vertical-align: middle;\n",
       "    }\n",
       "\n",
       "    .dataframe tbody tr th {\n",
       "        vertical-align: top;\n",
       "    }\n",
       "\n",
       "    .dataframe thead th {\n",
       "        text-align: right;\n",
       "    }\n",
       "</style>\n",
       "<table border=\"1\" class=\"dataframe\">\n",
       "  <thead>\n",
       "    <tr style=\"text-align: right;\">\n",
       "      <th></th>\n",
       "      <th>e1</th>\n",
       "      <th>e2</th>\n",
       "      <th>e3</th>\n",
       "    </tr>\n",
       "  </thead>\n",
       "  <tbody>\n",
       "    <tr>\n",
       "      <th>0</th>\n",
       "      <td>-2.256981</td>\n",
       "      <td>-0.504015</td>\n",
       "      <td>-0.121536</td>\n",
       "    </tr>\n",
       "    <tr>\n",
       "      <th>1</th>\n",
       "      <td>-2.079459</td>\n",
       "      <td>0.653216</td>\n",
       "      <td>-0.226492</td>\n",
       "    </tr>\n",
       "    <tr>\n",
       "      <th>2</th>\n",
       "      <td>-2.360044</td>\n",
       "      <td>0.317414</td>\n",
       "      <td>0.051308</td>\n",
       "    </tr>\n",
       "    <tr>\n",
       "      <th>3</th>\n",
       "      <td>-2.296504</td>\n",
       "      <td>0.573447</td>\n",
       "      <td>0.098530</td>\n",
       "    </tr>\n",
       "    <tr>\n",
       "      <th>4</th>\n",
       "      <td>-2.380802</td>\n",
       "      <td>-0.672514</td>\n",
       "      <td>0.021356</td>\n",
       "    </tr>\n",
       "    <tr>\n",
       "      <th>5</th>\n",
       "      <td>-2.063623</td>\n",
       "      <td>-1.513478</td>\n",
       "      <td>0.030582</td>\n",
       "    </tr>\n",
       "    <tr>\n",
       "      <th>6</th>\n",
       "      <td>-2.437545</td>\n",
       "      <td>-0.074314</td>\n",
       "      <td>0.341055</td>\n",
       "    </tr>\n",
       "    <tr>\n",
       "      <th>7</th>\n",
       "      <td>-2.226383</td>\n",
       "      <td>-0.246787</td>\n",
       "      <td>-0.082299</td>\n",
       "    </tr>\n",
       "    <tr>\n",
       "      <th>8</th>\n",
       "      <td>-2.334138</td>\n",
       "      <td>1.091490</td>\n",
       "      <td>0.153050</td>\n",
       "    </tr>\n",
       "    <tr>\n",
       "      <th>9</th>\n",
       "      <td>-2.181368</td>\n",
       "      <td>0.447131</td>\n",
       "      <td>-0.245736</td>\n",
       "    </tr>\n",
       "  </tbody>\n",
       "</table>\n",
       "</div>"
      ],
      "text/plain": [
       "         e1        e2        e3\n",
       "0 -2.256981 -0.504015 -0.121536\n",
       "1 -2.079459  0.653216 -0.226492\n",
       "2 -2.360044  0.317414  0.051308\n",
       "3 -2.296504  0.573447  0.098530\n",
       "4 -2.380802 -0.672514  0.021356\n",
       "5 -2.063623 -1.513478  0.030582\n",
       "6 -2.437545 -0.074314  0.341055\n",
       "7 -2.226383 -0.246787 -0.082299\n",
       "8 -2.334138  1.091490  0.153050\n",
       "9 -2.181368  0.447131 -0.245736"
      ]
     },
     "execution_count": 9,
     "metadata": {},
     "output_type": "execute_result"
    }
   ],
   "source": [
    "useful_pc = v[:,:-1] #keeping only the first 3 eigenvectors\n",
    "principle_data = np.dot(dfcpy2.values, useful_pc)#dot product of the two terms\n",
    "principle_data = pd.DataFrame(data=principle_data,columns=['e1','e2','e3'])\n",
    "principle_data.head(10)"
   ]
  }
 ],
 "metadata": {
  "interpreter": {
   "hash": "310eb99a63269d877933da8159894f76819ffc7340269d1438e9fc76c7c9a54b"
  },
  "kernelspec": {
   "display_name": "Python 3.9.12 ('.venv': venv)",
   "language": "python",
   "name": "python3"
  },
  "language_info": {
   "codemirror_mode": {
    "name": "ipython",
    "version": 3
   },
   "file_extension": ".py",
   "mimetype": "text/x-python",
   "name": "python",
   "nbconvert_exporter": "python",
   "pygments_lexer": "ipython3",
   "version": "3.9.12"
  },
  "orig_nbformat": 4
 },
 "nbformat": 4,
 "nbformat_minor": 2
}
